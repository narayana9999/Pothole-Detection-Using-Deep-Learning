{
  "cells": [
    {
      "cell_type": "code",
      "execution_count": 2,
      "metadata": {
        "colab": {
          "base_uri": "https://localhost:8080/"
        },
        "id": "Z9jCpUK9BZpq",
        "outputId": "abcf2966-2b43-4269-c08a-93d8322642b5"
      },
      "outputs": [
        {
          "output_type": "stream",
          "name": "stdout",
          "text": [
            "Drive already mounted at /content/drive; to attempt to forcibly remount, call drive.mount(\"/content/drive\", force_remount=True).\n"
          ]
        }
      ],
      "source": [
        "from google.colab import drive\n",
        "drive.mount('/content/drive')"
      ]
    },
    {
      "cell_type": "code",
      "execution_count": 3,
      "metadata": {
        "id": "zCGQ1hbPbl_b"
      },
      "outputs": [],
      "source": [
        "import warnings\n",
        "warnings.filterwarnings('ignore')"
      ]
    },
    {
      "cell_type": "markdown",
      "metadata": {
        "id": "iTFKltepBZp4"
      },
      "source": [
        "# YoloV5"
      ]
    },
    {
      "cell_type": "code",
      "execution_count": 4,
      "metadata": {
        "id": "6VyriU4kBZp4"
      },
      "outputs": [],
      "source": [
        "import torch\n",
        "from IPython.display import Image\n",
        "import shutil\n",
        "import os\n",
        "from random import choice"
      ]
    },
    {
      "cell_type": "code",
      "execution_count": 5,
      "metadata": {
        "colab": {
          "base_uri": "https://localhost:8080/"
        },
        "id": "ETDW8NwLBZp4",
        "outputId": "dbe82c6e-f4c0-4500-a8a7-65b1b601275b"
      },
      "outputs": [
        {
          "output_type": "stream",
          "name": "stdout",
          "text": [
            "Cloning into 'yolov5'...\n",
            "remote: Enumerating objects: 15291, done.\u001b[K\n",
            "remote: Counting objects: 100% (4/4), done.\u001b[K\n",
            "remote: Compressing objects: 100% (4/4), done.\u001b[K\n",
            "remote: Total 15291 (delta 0), reused 1 (delta 0), pack-reused 15287\u001b[K\n",
            "Receiving objects: 100% (15291/15291), 14.19 MiB | 23.37 MiB/s, done.\n",
            "Resolving deltas: 100% (10483/10483), done.\n"
          ]
        }
      ],
      "source": [
        "!git clone https://github.com/ultralytics/yolov5"
      ]
    },
    {
      "cell_type": "code",
      "execution_count": 6,
      "metadata": {
        "colab": {
          "base_uri": "https://localhost:8080/"
        },
        "id": "2qiMoEeBBZp4",
        "outputId": "d937713d-d8fc-44c0-c16e-320544ead7a3"
      },
      "outputs": [
        {
          "output_type": "stream",
          "name": "stdout",
          "text": [
            "/content/yolov5\n"
          ]
        }
      ],
      "source": [
        "%cd /content/yolov5/"
      ]
    },
    {
      "cell_type": "code",
      "execution_count": 7,
      "metadata": {
        "colab": {
          "base_uri": "https://localhost:8080/"
        },
        "id": "WjzKVc8cBZp4",
        "outputId": "774bdc55-88bd-4f5e-8eff-5853e118992b"
      },
      "outputs": [
        {
          "output_type": "stream",
          "name": "stdout",
          "text": [
            "Looking in indexes: https://pypi.org/simple, https://us-python.pkg.dev/colab-wheels/public/simple/\n",
            "Collecting gitpython>=3.1.30\n",
            "  Downloading GitPython-3.1.31-py3-none-any.whl (184 kB)\n",
            "\u001b[2K     \u001b[90m━━━━━━━━━━━━━━━━━━━━━━━━━━━━━━━━━━━━━━━\u001b[0m \u001b[32m184.3/184.3 KB\u001b[0m \u001b[31m7.7 MB/s\u001b[0m eta \u001b[36m0:00:00\u001b[0m\n",
            "\u001b[?25hRequirement already satisfied: matplotlib>=3.2.2 in /usr/local/lib/python3.8/dist-packages (from -r requirements.txt (line 6)) (3.5.3)\n",
            "Requirement already satisfied: numpy>=1.18.5 in /usr/local/lib/python3.8/dist-packages (from -r requirements.txt (line 7)) (1.22.4)\n",
            "Requirement already satisfied: opencv-python>=4.1.1 in /usr/local/lib/python3.8/dist-packages (from -r requirements.txt (line 8)) (4.6.0.66)\n",
            "Requirement already satisfied: Pillow>=7.1.2 in /usr/local/lib/python3.8/dist-packages (from -r requirements.txt (line 9)) (8.4.0)\n",
            "Requirement already satisfied: psutil in /usr/local/lib/python3.8/dist-packages (from -r requirements.txt (line 10)) (5.4.8)\n",
            "Requirement already satisfied: PyYAML>=5.3.1 in /usr/local/lib/python3.8/dist-packages (from -r requirements.txt (line 11)) (6.0)\n",
            "Requirement already satisfied: requests>=2.23.0 in /usr/local/lib/python3.8/dist-packages (from -r requirements.txt (line 12)) (2.25.1)\n",
            "Requirement already satisfied: scipy>=1.4.1 in /usr/local/lib/python3.8/dist-packages (from -r requirements.txt (line 13)) (1.10.1)\n",
            "Collecting thop>=0.1.1\n",
            "  Downloading thop-0.1.1.post2209072238-py3-none-any.whl (15 kB)\n",
            "Requirement already satisfied: torch>=1.7.0 in /usr/local/lib/python3.8/dist-packages (from -r requirements.txt (line 15)) (1.13.1+cu116)\n",
            "Requirement already satisfied: torchvision>=0.8.1 in /usr/local/lib/python3.8/dist-packages (from -r requirements.txt (line 16)) (0.14.1+cu116)\n",
            "Requirement already satisfied: tqdm>=4.64.0 in /usr/local/lib/python3.8/dist-packages (from -r requirements.txt (line 17)) (4.64.1)\n",
            "Requirement already satisfied: tensorboard>=2.4.1 in /usr/local/lib/python3.8/dist-packages (from -r requirements.txt (line 21)) (2.11.2)\n",
            "Requirement already satisfied: pandas>=1.1.4 in /usr/local/lib/python3.8/dist-packages (from -r requirements.txt (line 26)) (1.3.5)\n",
            "Requirement already satisfied: seaborn>=0.11.0 in /usr/local/lib/python3.8/dist-packages (from -r requirements.txt (line 27)) (0.11.2)\n",
            "Collecting setuptools>=65.5.1\n",
            "  Downloading setuptools-67.5.1-py3-none-any.whl (1.1 MB)\n",
            "\u001b[2K     \u001b[90m━━━━━━━━━━━━━━━━━━━━━━━━━━━━━━━━━━━━━━━━\u001b[0m \u001b[32m1.1/1.1 MB\u001b[0m \u001b[31m35.9 MB/s\u001b[0m eta \u001b[36m0:00:00\u001b[0m\n",
            "\u001b[?25hCollecting gitdb<5,>=4.0.1\n",
            "  Downloading gitdb-4.0.10-py3-none-any.whl (62 kB)\n",
            "\u001b[2K     \u001b[90m━━━━━━━━━━━━━━━━━━━━━━━━━━━━━━━━━━━━━━━━\u001b[0m \u001b[32m62.7/62.7 KB\u001b[0m \u001b[31m6.2 MB/s\u001b[0m eta \u001b[36m0:00:00\u001b[0m\n",
            "\u001b[?25hRequirement already satisfied: packaging>=20.0 in /usr/local/lib/python3.8/dist-packages (from matplotlib>=3.2.2->-r requirements.txt (line 6)) (23.0)\n",
            "Requirement already satisfied: cycler>=0.10 in /usr/local/lib/python3.8/dist-packages (from matplotlib>=3.2.2->-r requirements.txt (line 6)) (0.11.0)\n",
            "Requirement already satisfied: python-dateutil>=2.7 in /usr/local/lib/python3.8/dist-packages (from matplotlib>=3.2.2->-r requirements.txt (line 6)) (2.8.2)\n",
            "Requirement already satisfied: pyparsing>=2.2.1 in /usr/local/lib/python3.8/dist-packages (from matplotlib>=3.2.2->-r requirements.txt (line 6)) (3.0.9)\n",
            "Requirement already satisfied: fonttools>=4.22.0 in /usr/local/lib/python3.8/dist-packages (from matplotlib>=3.2.2->-r requirements.txt (line 6)) (4.38.0)\n",
            "Requirement already satisfied: kiwisolver>=1.0.1 in /usr/local/lib/python3.8/dist-packages (from matplotlib>=3.2.2->-r requirements.txt (line 6)) (1.4.4)\n",
            "Requirement already satisfied: idna<3,>=2.5 in /usr/local/lib/python3.8/dist-packages (from requests>=2.23.0->-r requirements.txt (line 12)) (2.10)\n",
            "Requirement already satisfied: urllib3<1.27,>=1.21.1 in /usr/local/lib/python3.8/dist-packages (from requests>=2.23.0->-r requirements.txt (line 12)) (1.26.14)\n",
            "Requirement already satisfied: chardet<5,>=3.0.2 in /usr/local/lib/python3.8/dist-packages (from requests>=2.23.0->-r requirements.txt (line 12)) (4.0.0)\n",
            "Requirement already satisfied: certifi>=2017.4.17 in /usr/local/lib/python3.8/dist-packages (from requests>=2.23.0->-r requirements.txt (line 12)) (2022.12.7)\n",
            "Requirement already satisfied: typing-extensions in /usr/local/lib/python3.8/dist-packages (from torch>=1.7.0->-r requirements.txt (line 15)) (4.5.0)\n",
            "Requirement already satisfied: markdown>=2.6.8 in /usr/local/lib/python3.8/dist-packages (from tensorboard>=2.4.1->-r requirements.txt (line 21)) (3.4.1)\n",
            "Requirement already satisfied: tensorboard-data-server<0.7.0,>=0.6.0 in /usr/local/lib/python3.8/dist-packages (from tensorboard>=2.4.1->-r requirements.txt (line 21)) (0.6.1)\n",
            "Requirement already satisfied: wheel>=0.26 in /usr/local/lib/python3.8/dist-packages (from tensorboard>=2.4.1->-r requirements.txt (line 21)) (0.38.4)\n",
            "Requirement already satisfied: google-auth<3,>=1.6.3 in /usr/local/lib/python3.8/dist-packages (from tensorboard>=2.4.1->-r requirements.txt (line 21)) (2.16.2)\n",
            "Requirement already satisfied: tensorboard-plugin-wit>=1.6.0 in /usr/local/lib/python3.8/dist-packages (from tensorboard>=2.4.1->-r requirements.txt (line 21)) (1.8.1)\n",
            "Requirement already satisfied: grpcio>=1.24.3 in /usr/local/lib/python3.8/dist-packages (from tensorboard>=2.4.1->-r requirements.txt (line 21)) (1.51.3)\n",
            "Requirement already satisfied: absl-py>=0.4 in /usr/local/lib/python3.8/dist-packages (from tensorboard>=2.4.1->-r requirements.txt (line 21)) (1.4.0)\n",
            "Requirement already satisfied: protobuf<4,>=3.9.2 in /usr/local/lib/python3.8/dist-packages (from tensorboard>=2.4.1->-r requirements.txt (line 21)) (3.19.6)\n",
            "Requirement already satisfied: werkzeug>=1.0.1 in /usr/local/lib/python3.8/dist-packages (from tensorboard>=2.4.1->-r requirements.txt (line 21)) (2.2.3)\n",
            "Requirement already satisfied: google-auth-oauthlib<0.5,>=0.4.1 in /usr/local/lib/python3.8/dist-packages (from tensorboard>=2.4.1->-r requirements.txt (line 21)) (0.4.6)\n",
            "Requirement already satisfied: pytz>=2017.3 in /usr/local/lib/python3.8/dist-packages (from pandas>=1.1.4->-r requirements.txt (line 26)) (2022.7.1)\n",
            "Collecting smmap<6,>=3.0.1\n",
            "  Downloading smmap-5.0.0-py3-none-any.whl (24 kB)\n",
            "Requirement already satisfied: cachetools<6.0,>=2.0.0 in /usr/local/lib/python3.8/dist-packages (from google-auth<3,>=1.6.3->tensorboard>=2.4.1->-r requirements.txt (line 21)) (5.3.0)\n",
            "Requirement already satisfied: six>=1.9.0 in /usr/local/lib/python3.8/dist-packages (from google-auth<3,>=1.6.3->tensorboard>=2.4.1->-r requirements.txt (line 21)) (1.15.0)\n",
            "Requirement already satisfied: pyasn1-modules>=0.2.1 in /usr/local/lib/python3.8/dist-packages (from google-auth<3,>=1.6.3->tensorboard>=2.4.1->-r requirements.txt (line 21)) (0.2.8)\n",
            "Requirement already satisfied: rsa<5,>=3.1.4 in /usr/local/lib/python3.8/dist-packages (from google-auth<3,>=1.6.3->tensorboard>=2.4.1->-r requirements.txt (line 21)) (4.9)\n",
            "Requirement already satisfied: requests-oauthlib>=0.7.0 in /usr/local/lib/python3.8/dist-packages (from google-auth-oauthlib<0.5,>=0.4.1->tensorboard>=2.4.1->-r requirements.txt (line 21)) (1.3.1)\n",
            "Requirement already satisfied: importlib-metadata>=4.4 in /usr/local/lib/python3.8/dist-packages (from markdown>=2.6.8->tensorboard>=2.4.1->-r requirements.txt (line 21)) (6.0.0)\n",
            "Requirement already satisfied: MarkupSafe>=2.1.1 in /usr/local/lib/python3.8/dist-packages (from werkzeug>=1.0.1->tensorboard>=2.4.1->-r requirements.txt (line 21)) (2.1.2)\n",
            "Requirement already satisfied: zipp>=0.5 in /usr/local/lib/python3.8/dist-packages (from importlib-metadata>=4.4->markdown>=2.6.8->tensorboard>=2.4.1->-r requirements.txt (line 21)) (3.15.0)\n",
            "Requirement already satisfied: pyasn1<0.5.0,>=0.4.6 in /usr/local/lib/python3.8/dist-packages (from pyasn1-modules>=0.2.1->google-auth<3,>=1.6.3->tensorboard>=2.4.1->-r requirements.txt (line 21)) (0.4.8)\n",
            "Requirement already satisfied: oauthlib>=3.0.0 in /usr/local/lib/python3.8/dist-packages (from requests-oauthlib>=0.7.0->google-auth-oauthlib<0.5,>=0.4.1->tensorboard>=2.4.1->-r requirements.txt (line 21)) (3.2.2)\n",
            "Installing collected packages: smmap, setuptools, thop, gitdb, gitpython\n",
            "  Attempting uninstall: setuptools\n",
            "    Found existing installation: setuptools 57.4.0\n",
            "    Uninstalling setuptools-57.4.0:\n",
            "      Successfully uninstalled setuptools-57.4.0\n",
            "\u001b[31mERROR: pip's dependency resolver does not currently take into account all the packages that are installed. This behaviour is the source of the following dependency conflicts.\n",
            "ipython 7.9.0 requires jedi>=0.10, which is not installed.\n",
            "cvxpy 1.2.3 requires setuptools<=64.0.2, but you have setuptools 67.5.1 which is incompatible.\u001b[0m\u001b[31m\n",
            "\u001b[0mSuccessfully installed gitdb-4.0.10 gitpython-3.1.31 setuptools-67.5.1 smmap-5.0.0 thop-0.1.1.post2209072238\n"
          ]
        }
      ],
      "source": [
        "!pip install -r requirements.txt"
      ]
    },
    {
      "cell_type": "code",
      "execution_count": 8,
      "metadata": {
        "colab": {
          "base_uri": "https://localhost:8080/"
        },
        "id": "zSzrmeXoBZp4",
        "outputId": "d8d1698e-1b89-401c-ef14-4ccf8d1bcbff"
      },
      "outputs": [
        {
          "output_type": "stream",
          "name": "stdout",
          "text": [
            "training images are :  59\n",
            "validation images are :  14\n"
          ]
        }
      ],
      "source": [
        "# arrays to store file names\n",
        "imgs = []\n",
        "xmls = []\n",
        "\n",
        "# setup directory names\n",
        "train_path = \"/content/drive/MyDrive/pothole/yolo/train/images\"\n",
        "val_path = \"/content/drive/MyDrive/pothole/yolo/valid/images\"\n",
        "crs_path = \"/content/drive/MyDrive/pothole/yolo/images\"\n",
        "\n",
        "train_ratio = 0.8\n",
        "val_ratio = 0.2\n",
        "\n",
        "# total count of imgs\n",
        "total_img_count = len(os.listdir(crs_path))/2\n",
        "\n",
        "# sorting count of imgs\n",
        "for (dirname,dirs, files) in os.walk(crs_path):\n",
        "#     print(files)\n",
        "    for filename in files:\n",
        "#         print(\"hello\")\n",
        "        if filename.endswith(\".txt\"):\n",
        "            xmls.append(filename)\n",
        "        else:\n",
        "            imgs.append(filename)\n",
        "\n",
        "# counting range for cycles\n",
        "count_for_train = int(len(imgs)*train_ratio)\n",
        "count_for_val = int(len(imgs)*val_ratio)\n",
        "print(\"training images are : \",count_for_train)\n",
        "print(\"validation images are : \",count_for_val)"
      ]
    },
    {
      "cell_type": "code",
      "execution_count": 9,
      "metadata": {
        "colab": {
          "base_uri": "https://localhost:8080/"
        },
        "id": "jIhZWYzaBZp4",
        "outputId": "6e99277a-3403-411d-bc50-43b530c8a06f"
      },
      "outputs": [
        {
          "output_type": "execute_result",
          "data": {
            "text/plain": [
              "74"
            ]
          },
          "metadata": {},
          "execution_count": 9
        }
      ],
      "source": [
        "len(imgs)"
      ]
    },
    {
      "cell_type": "code",
      "execution_count": 10,
      "metadata": {
        "colab": {
          "base_uri": "https://localhost:8080/"
        },
        "id": "_N_wOAYoBZp5",
        "outputId": "4f6484c1-3eba-43bb-dd87-d78e1e7e01f0"
      },
      "outputs": [
        {
          "output_type": "stream",
          "name": "stdout",
          "text": [
            "images length -  1\n",
            "['po_578_jpg.rf.9a02fe4378b979a854c2420c82975862.jpg'] ['po_578_jpg.rf.9a02fe4378b979a854c2420c82975862.txt']\n"
          ]
        }
      ],
      "source": [
        "train_image_path = \"/content/drive/MyDrive/pothole/yolo/train/images\"\n",
        "train_label_path = \"/content/drive/MyDrive/pothole/yolo/train/labels\"\n",
        "val_image_path = \"/content/drive/MyDrive/pothole/yolo/valid/images\"\n",
        "val_label_path = \"/content/drive/MyDrive/pothole/yolo/valid/labels\"\n",
        "\n",
        "if not os.path.isdir(train_image_path):\n",
        "    os.makedirs(train_image_path)\n",
        "if not os.path.isdir(train_label_path):\n",
        "    os.makedirs(train_label_path)\n",
        "if not os.path.isdir(val_image_path):\n",
        "    os.makedirs(val_image_path)\n",
        "if not os.path.isdir(val_label_path):\n",
        "    os.makedirs(val_label_path)\n",
        "\n",
        "# cycle for train dir\n",
        "for x in range(count_for_train):\n",
        "    file_jpg = choice(imgs)\n",
        "    file_xml = file_jpg[:-4] + \".txt\"\n",
        "    \n",
        "    shutil.copy(os.path.join(crs_path,file_jpg),os.path.join(train_image_path,file_jpg))\n",
        "    shutil.copy(os.path.join(crs_path,file_xml),os.path.join(train_label_path,file_xml))\n",
        "    \n",
        "    imgs.remove(file_jpg)\n",
        "    xmls.remove(file_xml)\n",
        "    \n",
        "# cycle for test dir\n",
        "for x in range(count_for_val):\n",
        "    file_jpg = choice(imgs)\n",
        "    file_xml = file_jpg[:-4] + \".txt\"\n",
        "    \n",
        "    shutil.copy(os.path.join(crs_path,file_jpg),os.path.join(val_image_path,file_jpg))\n",
        "    shutil.copy(os.path.join(crs_path,file_xml),os.path.join(val_label_path,file_xml))\n",
        "    \n",
        "    imgs.remove(file_jpg)\n",
        "    xmls.remove(file_xml)\n",
        "\n",
        "# rest of files\n",
        "print(\"images length - \",len(imgs))\n",
        "print(imgs,xmls)\n",
        "for x in imgs:\n",
        "    file_jpg = x\n",
        "    file_xml = file_jpg[:-4] + \".txt\"\n",
        "    \n",
        "    shutil.copy(os.path.join(crs_path,file_jpg),os.path.join(val_image_path,file_jpg))\n",
        "    shutil.copy(os.path.join(crs_path,file_xml),os.path.join(val_label_path,file_xml))\n",
        "# shutil.copytree(crs_path,val_path)"
      ]
    },
    {
      "cell_type": "code",
      "execution_count": 11,
      "metadata": {
        "colab": {
          "base_uri": "https://localhost:8080/"
        },
        "id": "l-pSvgS4BZp5",
        "outputId": "251dc8d1-f5ce-4606-8511-2a6470fe633f"
      },
      "outputs": [
        {
          "output_type": "stream",
          "name": "stdout",
          "text": [
            "['train: /content/drive/MyDrive/pothole/yolo/train/images\\n', 'val: /content/drive/MyDrive/pothole/yolo/valid/images\\n', '\\n', '\\n', 'nc: 2\\n', \"names: ['manhole', 'pothole']\\n\", '\\n', 'roboflow:\\n', '  workspace: tejas-veer\\n', '  project: potholedata3\\n', '  version: 1\\n', '  license: CC BY 4.0\\n', '  url: https://universe.roboflow.com/tejas-veer/potholedata3/dataset/1']\n"
          ]
        }
      ],
      "source": [
        "with open(r'/content/drive/MyDrive/pothole/yolo/data.yaml', 'r') as file:\n",
        "    lines = file.readlines()\n",
        "    print(lines)"
      ]
    },
    {
      "cell_type": "code",
      "execution_count": 14,
      "metadata": {
        "colab": {
          "base_uri": "https://localhost:8080/"
        },
        "id": "df8wFTdiBZp5",
        "outputId": "37ff697b-139a-4080-e75f-3dddc15989a0"
      },
      "outputs": [
        {
          "output_type": "stream",
          "name": "stdout",
          "text": [
            "\u001b[34m\u001b[1mtrain: \u001b[0mweights=yolov5s.pt, cfg=, data=/content/drive/MyDrive/pothole/yolo/data.yaml, hyp=data/hyps/hyp.scratch-low.yaml, epochs=5, batch_size=16, imgsz=415, rect=False, resume=False, nosave=False, noval=False, noautoanchor=False, noplots=False, evolve=None, bucket=, cache=ram, image_weights=False, device=, multi_scale=False, single_cls=False, optimizer=SGD, sync_bn=False, workers=2, project=runs/train, name=exp, exist_ok=False, quad=False, cos_lr=False, label_smoothing=0.0, patience=100, freeze=[0], save_period=-1, seed=0, local_rank=-1, entity=None, upload_dataset=False, bbox_interval=-1, artifact_alias=latest\n",
            "\u001b[34m\u001b[1mgithub: \u001b[0mup to date with https://github.com/ultralytics/yolov5 ✅\n",
            "YOLOv5 🚀 v7.0-117-g85f6019 Python-3.8.10 torch-1.13.1+cu116 CPU\n",
            "\n",
            "\u001b[34m\u001b[1mhyperparameters: \u001b[0mlr0=0.01, lrf=0.01, momentum=0.937, weight_decay=0.0005, warmup_epochs=3.0, warmup_momentum=0.8, warmup_bias_lr=0.1, box=0.05, cls=0.5, cls_pw=1.0, obj=1.0, obj_pw=1.0, iou_t=0.2, anchor_t=4.0, fl_gamma=0.0, hsv_h=0.015, hsv_s=0.7, hsv_v=0.4, degrees=0.0, translate=0.1, scale=0.5, shear=0.0, perspective=0.0, flipud=0.0, fliplr=0.5, mosaic=1.0, mixup=0.0, copy_paste=0.0\n",
            "\u001b[34m\u001b[1mClearML: \u001b[0mrun 'pip install clearml' to automatically track, visualize and remotely train YOLOv5 🚀 in ClearML\n",
            "\u001b[34m\u001b[1mComet: \u001b[0mrun 'pip install comet_ml' to automatically track and visualize YOLOv5 🚀 runs in Comet\n",
            "\u001b[34m\u001b[1mTensorBoard: \u001b[0mStart with 'tensorboard --logdir runs/train', view at http://localhost:6006/\n",
            "2023-03-08 06:58:02.861682: I tensorflow/core/platform/cpu_feature_guard.cc:193] This TensorFlow binary is optimized with oneAPI Deep Neural Network Library (oneDNN) to use the following CPU instructions in performance-critical operations:  AVX2 FMA\n",
            "To enable them in other operations, rebuild TensorFlow with the appropriate compiler flags.\n",
            "2023-03-08 06:58:04.576709: W tensorflow/compiler/xla/stream_executor/platform/default/dso_loader.cc:64] Could not load dynamic library 'libnvinfer.so.7'; dlerror: libnvinfer.so.7: cannot open shared object file: No such file or directory; LD_LIBRARY_PATH: /usr/local/lib/python3.8/dist-packages/cv2/../../lib64:/usr/local/nvidia/lib:/usr/local/nvidia/lib64\n",
            "2023-03-08 06:58:04.576924: W tensorflow/compiler/xla/stream_executor/platform/default/dso_loader.cc:64] Could not load dynamic library 'libnvinfer_plugin.so.7'; dlerror: libnvinfer_plugin.so.7: cannot open shared object file: No such file or directory; LD_LIBRARY_PATH: /usr/local/lib/python3.8/dist-packages/cv2/../../lib64:/usr/local/nvidia/lib:/usr/local/nvidia/lib64\n",
            "2023-03-08 06:58:04.576948: W tensorflow/compiler/tf2tensorrt/utils/py_utils.cc:38] TF-TRT Warning: Cannot dlopen some TensorRT libraries. If you would like to use Nvidia GPU with TensorRT, please make sure the missing libraries mentioned above are installed properly.\n",
            "Overriding model.yaml nc=80 with nc=2\n",
            "\n",
            "                 from  n    params  module                                  arguments                     \n",
            "  0                -1  1      3520  models.common.Conv                      [3, 32, 6, 2, 2]              \n",
            "  1                -1  1     18560  models.common.Conv                      [32, 64, 3, 2]                \n",
            "  2                -1  1     18816  models.common.C3                        [64, 64, 1]                   \n",
            "  3                -1  1     73984  models.common.Conv                      [64, 128, 3, 2]               \n",
            "  4                -1  2    115712  models.common.C3                        [128, 128, 2]                 \n",
            "  5                -1  1    295424  models.common.Conv                      [128, 256, 3, 2]              \n",
            "  6                -1  3    625152  models.common.C3                        [256, 256, 3]                 \n",
            "  7                -1  1   1180672  models.common.Conv                      [256, 512, 3, 2]              \n",
            "  8                -1  1   1182720  models.common.C3                        [512, 512, 1]                 \n",
            "  9                -1  1    656896  models.common.SPPF                      [512, 512, 5]                 \n",
            " 10                -1  1    131584  models.common.Conv                      [512, 256, 1, 1]              \n",
            " 11                -1  1         0  torch.nn.modules.upsampling.Upsample    [None, 2, 'nearest']          \n",
            " 12           [-1, 6]  1         0  models.common.Concat                    [1]                           \n",
            " 13                -1  1    361984  models.common.C3                        [512, 256, 1, False]          \n",
            " 14                -1  1     33024  models.common.Conv                      [256, 128, 1, 1]              \n",
            " 15                -1  1         0  torch.nn.modules.upsampling.Upsample    [None, 2, 'nearest']          \n",
            " 16           [-1, 4]  1         0  models.common.Concat                    [1]                           \n",
            " 17                -1  1     90880  models.common.C3                        [256, 128, 1, False]          \n",
            " 18                -1  1    147712  models.common.Conv                      [128, 128, 3, 2]              \n",
            " 19          [-1, 14]  1         0  models.common.Concat                    [1]                           \n",
            " 20                -1  1    296448  models.common.C3                        [256, 256, 1, False]          \n",
            " 21                -1  1    590336  models.common.Conv                      [256, 256, 3, 2]              \n",
            " 22          [-1, 10]  1         0  models.common.Concat                    [1]                           \n",
            " 23                -1  1   1182720  models.common.C3                        [512, 512, 1, False]          \n",
            " 24      [17, 20, 23]  1     18879  models.yolo.Detect                      [2, [[10, 13, 16, 30, 33, 23], [30, 61, 62, 45, 59, 119], [116, 90, 156, 198, 373, 326]], [128, 256, 512]]\n",
            "Model summary: 214 layers, 7025023 parameters, 7025023 gradients, 16.0 GFLOPs\n",
            "\n",
            "Transferred 343/349 items from yolov5s.pt\n",
            "WARNING ⚠️ --img-size 415 must be multiple of max stride 32, updating to 416\n",
            "\u001b[34m\u001b[1moptimizer:\u001b[0m SGD(lr=0.01) with parameter groups 57 weight(decay=0.0), 60 weight(decay=0.0005), 60 bias\n",
            "\u001b[34m\u001b[1malbumentations: \u001b[0mBlur(p=0.01, blur_limit=(3, 7)), MedianBlur(p=0.01, blur_limit=(3, 7)), ToGray(p=0.01), CLAHE(p=0.01, clip_limit=(1, 4.0), tile_grid_size=(8, 8))\n",
            "\u001b[34m\u001b[1mtrain: \u001b[0mScanning /content/drive/MyDrive/pothole/yolo/train/labels.cache... 577 images, 0 backgrounds, 0 corrupt: 100% 577/577 [00:00<?, ?it/s]\n",
            "\u001b[34m\u001b[1mtrain: \u001b[0mCaching images (0.3GB ram): 100% 577/577 [00:04<00:00, 135.05it/s]\n",
            "\u001b[34m\u001b[1mval: \u001b[0mScanning /content/drive/MyDrive/pothole/yolo/valid/labels.cache... 163 images, 0 backgrounds, 0 corrupt: 100% 163/163 [00:00<?, ?it/s]\n",
            "\u001b[34m\u001b[1mval: \u001b[0mCaching images (0.1GB ram): 100% 163/163 [00:01<00:00, 109.95it/s]\n",
            "\n",
            "\u001b[34m\u001b[1mAutoAnchor: \u001b[0m4.02 anchors/target, 0.994 Best Possible Recall (BPR). Current anchors are a good fit to dataset ✅\n",
            "Plotting labels to runs/train/exp2/labels.jpg... \n",
            "Image sizes 416 train, 416 val\n",
            "Using 2 dataloader workers\n",
            "Logging results to \u001b[1mruns/train/exp2\u001b[0m\n",
            "Starting training for 5 epochs...\n",
            "\n",
            "      Epoch    GPU_mem   box_loss   obj_loss   cls_loss  Instances       Size\n",
            "        0/4         0G     0.1095    0.02712    0.02299          5        416: 100% 37/37 [06:36<00:00, 10.72s/it]\n",
            "                 Class     Images  Instances          P          R      mAP50   mAP50-95:  33% 2/6 [00:20<00:41, 10.49s/it]WARNING ⚠️ NMS time limit 2.100s exceeded\n",
            "                 Class     Images  Instances          P          R      mAP50   mAP50-95: 100% 6/6 [00:53<00:00,  8.96s/it]\n",
            "                   all        163        466     0.0806     0.0637     0.0274    0.00709\n",
            "\n",
            "      Epoch    GPU_mem   box_loss   obj_loss   cls_loss  Instances       Size\n",
            "        1/4         0G    0.08331    0.03062   0.007402          6        416: 100% 37/37 [06:22<00:00, 10.34s/it]\n",
            "                 Class     Images  Instances          P          R      mAP50   mAP50-95: 100% 6/6 [00:42<00:00,  7.13s/it]\n",
            "                   all        163        466      0.637      0.136       0.17       0.07\n",
            "\n",
            "      Epoch    GPU_mem   box_loss   obj_loss   cls_loss  Instances       Size\n",
            "        2/4         0G     0.0717    0.02701   0.003132          1        416: 100% 37/37 [06:19<00:00, 10.26s/it]\n",
            "                 Class     Images  Instances          P          R      mAP50   mAP50-95: 100% 6/6 [00:50<00:00,  8.39s/it]\n",
            "                   all        163        466      0.632      0.203      0.294      0.135\n",
            "\n",
            "      Epoch    GPU_mem   box_loss   obj_loss   cls_loss  Instances       Size\n",
            "        3/4         0G    0.06281    0.02756   0.003238          9        416: 100% 37/37 [06:16<00:00, 10.19s/it]\n",
            "                 Class     Images  Instances          P          R      mAP50   mAP50-95: 100% 6/6 [00:37<00:00,  6.29s/it]\n",
            "                   all        163        466      0.803      0.253      0.296      0.128\n",
            "\n",
            "      Epoch    GPU_mem   box_loss   obj_loss   cls_loss  Instances       Size\n",
            "        4/4         0G    0.05876    0.02578   0.003062          8        416: 100% 37/37 [06:20<00:00, 10.30s/it]\n",
            "                 Class     Images  Instances          P          R      mAP50   mAP50-95: 100% 6/6 [00:37<00:00,  6.22s/it]\n",
            "                   all        163        466       0.81      0.257      0.308      0.139\n",
            "\n",
            "5 epochs completed in 0.595 hours.\n",
            "Optimizer stripped from runs/train/exp2/weights/last.pt, 14.3MB\n",
            "Optimizer stripped from runs/train/exp2/weights/best.pt, 14.3MB\n",
            "\n",
            "Validating runs/train/exp2/weights/best.pt...\n",
            "Fusing layers... \n",
            "Model summary: 157 layers, 7015519 parameters, 0 gradients, 15.8 GFLOPs\n",
            "                 Class     Images  Instances          P          R      mAP50   mAP50-95: 100% 6/6 [00:43<00:00,  7.20s/it]\n",
            "                   all        163        466      0.809      0.257      0.308       0.14\n",
            "               manhole        163          3          1          0     0.0506     0.0337\n",
            "               pothole        163        463      0.618      0.514      0.566      0.246\n",
            "Results saved to \u001b[1mruns/train/exp2\u001b[0m\n"
          ]
        }
      ],
      "source": [
        "#!wandb disabled\n",
        "!python train.py --img 415 --batch 16 --epochs 5 --data /content/drive/MyDrive/pothole/yolo/data.yaml --weights yolov5s.pt --cache --workers 2"
      ]
    },
    {
      "cell_type": "code",
      "execution_count": 15,
      "metadata": {
        "colab": {
          "base_uri": "https://localhost:8080/"
        },
        "id": "4awcYeLqBZp5",
        "outputId": "9d8059f5-99c9-44a7-b83b-44fa58b8c5e7"
      },
      "outputs": [
        {
          "output_type": "stream",
          "name": "stdout",
          "text": [
            "  adding: content/yolov5/ (stored 0%)\n",
            "  adding: content/yolov5/.git/ (stored 0%)\n",
            "  adding: content/yolov5/.git/description (deflated 14%)\n",
            "  adding: content/yolov5/.git/info/ (stored 0%)\n",
            "  adding: content/yolov5/.git/info/exclude (deflated 28%)\n",
            "  adding: content/yolov5/.git/hooks/ (stored 0%)\n",
            "  adding: content/yolov5/.git/hooks/applypatch-msg.sample (deflated 42%)\n",
            "  adding: content/yolov5/.git/hooks/update.sample (deflated 68%)\n",
            "  adding: content/yolov5/.git/hooks/pre-merge-commit.sample (deflated 39%)\n",
            "  adding: content/yolov5/.git/hooks/fsmonitor-watchman.sample (deflated 52%)\n",
            "  adding: content/yolov5/.git/hooks/pre-commit.sample (deflated 45%)\n",
            "  adding: content/yolov5/.git/hooks/prepare-commit-msg.sample (deflated 50%)\n",
            "  adding: content/yolov5/.git/hooks/pre-rebase.sample (deflated 59%)\n",
            "  adding: content/yolov5/.git/hooks/commit-msg.sample (deflated 44%)\n",
            "  adding: content/yolov5/.git/hooks/post-update.sample (deflated 27%)\n",
            "  adding: content/yolov5/.git/hooks/pre-receive.sample (deflated 40%)\n",
            "  adding: content/yolov5/.git/hooks/pre-push.sample (deflated 50%)\n",
            "  adding: content/yolov5/.git/hooks/pre-applypatch.sample (deflated 38%)\n",
            "  adding: content/yolov5/.git/branches/ (stored 0%)\n",
            "  adding: content/yolov5/.git/objects/ (stored 0%)\n",
            "  adding: content/yolov5/.git/objects/pack/ (stored 0%)\n",
            "  adding: content/yolov5/.git/objects/pack/pack-cc6f38a9cb5fb05fb35f433c965589d72d5af335.pack (deflated 2%)\n",
            "  adding: content/yolov5/.git/objects/pack/pack-cc6f38a9cb5fb05fb35f433c965589d72d5af335.idx (deflated 2%)\n",
            "  adding: content/yolov5/.git/objects/info/ (stored 0%)\n",
            "  adding: content/yolov5/.git/packed-refs (deflated 50%)\n",
            "  adding: content/yolov5/.git/config (deflated 33%)\n",
            "  adding: content/yolov5/.git/index (deflated 55%)\n",
            "  adding: content/yolov5/.git/FETCH_HEAD (deflated 66%)\n",
            "  adding: content/yolov5/.git/logs/ (stored 0%)\n",
            "  adding: content/yolov5/.git/logs/refs/ (stored 0%)\n",
            "  adding: content/yolov5/.git/logs/refs/remotes/ (stored 0%)\n",
            "  adding: content/yolov5/.git/logs/refs/remotes/origin/ (stored 0%)\n",
            "  adding: content/yolov5/.git/logs/refs/remotes/origin/HEAD (deflated 28%)\n",
            "  adding: content/yolov5/.git/logs/refs/heads/ (stored 0%)\n",
            "  adding: content/yolov5/.git/logs/refs/heads/master (deflated 28%)\n",
            "  adding: content/yolov5/.git/logs/HEAD (deflated 28%)\n",
            "  adding: content/yolov5/.git/refs/ (stored 0%)\n",
            "  adding: content/yolov5/.git/refs/remotes/ (stored 0%)\n",
            "  adding: content/yolov5/.git/refs/remotes/origin/ (stored 0%)\n",
            "  adding: content/yolov5/.git/refs/remotes/origin/HEAD (stored 0%)\n",
            "  adding: content/yolov5/.git/refs/tags/ (stored 0%)\n",
            "  adding: content/yolov5/.git/refs/heads/ (stored 0%)\n",
            "  adding: content/yolov5/.git/refs/heads/master (stored 0%)\n",
            "  adding: content/yolov5/.git/HEAD (stored 0%)\n",
            "  adding: content/yolov5/.gitattributes (deflated 4%)\n",
            "  adding: content/yolov5/classify/ (stored 0%)\n",
            "  adding: content/yolov5/classify/tutorial.ipynb (deflated 81%)\n",
            "  adding: content/yolov5/classify/val.py (deflated 66%)\n",
            "  adding: content/yolov5/classify/predict.py (deflated 69%)\n",
            "  adding: content/yolov5/classify/train.py (deflated 66%)\n",
            "  adding: content/yolov5/CITATION.cff (deflated 31%)\n",
            "  adding: content/yolov5/data/ (stored 0%)\n",
            "  adding: content/yolov5/data/xView.yaml (deflated 57%)\n",
            "  adding: content/yolov5/data/VisDrone.yaml (deflated 59%)\n",
            "  adding: content/yolov5/data/ImageNet.yaml (deflated 54%)\n",
            "  adding: content/yolov5/data/scripts/ (stored 0%)\n",
            "  adding: content/yolov5/data/scripts/get_imagenet.sh (deflated 53%)\n",
            "  adding: content/yolov5/data/scripts/get_coco.sh (deflated 60%)\n",
            "  adding: content/yolov5/data/scripts/get_coco128.sh (deflated 36%)\n",
            "  adding: content/yolov5/data/scripts/download_weights.sh (deflated 43%)\n",
            "  adding: content/yolov5/data/Objects365.yaml (deflated 53%)\n",
            "  adding: content/yolov5/data/coco128.yaml (deflated 47%)\n",
            "  adding: content/yolov5/data/Argoverse.yaml (deflated 55%)\n",
            "  adding: content/yolov5/data/VOC.yaml (deflated 55%)\n",
            "  adding: content/yolov5/data/coco.yaml (deflated 49%)\n",
            "  adding: content/yolov5/data/images/ (stored 0%)\n",
            "  adding: content/yolov5/data/images/zidane.jpg (deflated 0%)\n",
            "  adding: content/yolov5/data/images/bus.jpg (deflated 1%)\n",
            "  adding: content/yolov5/data/GlobalWheat2020.yaml (deflated 54%)\n",
            "  adding: content/yolov5/data/coco128-seg.yaml (deflated 47%)\n",
            "  adding: content/yolov5/data/SKU-110K.yaml (deflated 52%)\n",
            "  adding: content/yolov5/data/hyps/ (stored 0%)\n",
            "  adding: content/yolov5/data/hyps/hyp.Objects365.yaml (deflated 40%)\n",
            "  adding: content/yolov5/data/hyps/hyp.scratch-low.yaml (deflated 54%)\n",
            "  adding: content/yolov5/data/hyps/hyp.VOC.yaml (deflated 48%)\n",
            "  adding: content/yolov5/data/hyps/hyp.no-augmentation.yaml (deflated 54%)\n",
            "  adding: content/yolov5/data/hyps/hyp.scratch-high.yaml (deflated 53%)\n",
            "  adding: content/yolov5/data/hyps/hyp.scratch-med.yaml (deflated 53%)\n",
            "  adding: content/yolov5/yolov5s.pt (deflated 9%)\n",
            "  adding: content/yolov5/LICENSE (deflated 66%)\n",
            "  adding: content/yolov5/.gitignore (deflated 55%)\n",
            "  adding: content/yolov5/setup.cfg (deflated 45%)\n",
            "  adding: content/yolov5/.pre-commit-config.yaml (deflated 60%)\n",
            "  adding: content/yolov5/tutorial.ipynb (deflated 78%)\n",
            "  adding: content/yolov5/runs/ (stored 0%)\n",
            "  adding: content/yolov5/runs/train/ (stored 0%)\n",
            "  adding: content/yolov5/runs/train/exp/ (stored 0%)\n",
            "  adding: content/yolov5/runs/train/exp/train_batch2.jpg (deflated 1%)\n",
            "  adding: content/yolov5/runs/train/exp/labels_correlogram.jpg (deflated 37%)\n",
            "  adding: content/yolov5/runs/train/exp/results.csv (deflated 75%)\n",
            "  adding: content/yolov5/runs/train/exp/weights/ (stored 0%)\n",
            "  adding: content/yolov5/runs/train/exp/weights/best.pt (deflated 8%)\n",
            "  adding: content/yolov5/runs/train/exp/weights/last.pt (deflated 8%)\n",
            "  adding: content/yolov5/runs/train/exp/events.out.tfevents.1678256784.14261c2f4cd3.2417.0 (deflated 94%)\n",
            "  adding: content/yolov5/runs/train/exp/train_batch1.jpg (deflated 1%)\n",
            "  adding: content/yolov5/runs/train/exp/hyp.yaml (deflated 45%)\n",
            "  adding: content/yolov5/runs/train/exp/labels.jpg (deflated 24%)\n",
            "  adding: content/yolov5/runs/train/exp/opt.yaml (deflated 48%)\n",
            "  adding: content/yolov5/runs/train/exp/train_batch0.jpg (deflated 1%)\n",
            "  adding: content/yolov5/runs/train/exp2/ (stored 0%)\n",
            "  adding: content/yolov5/runs/train/exp2/train_batch2.jpg (deflated 1%)\n",
            "  adding: content/yolov5/runs/train/exp2/labels_correlogram.jpg (deflated 37%)\n",
            "  adding: content/yolov5/runs/train/exp2/val_batch2_pred.jpg (deflated 7%)\n",
            "  adding: content/yolov5/runs/train/exp2/results.csv (deflated 78%)\n",
            "  adding: content/yolov5/runs/train/exp2/R_curve.png (deflated 11%)\n",
            "  adding: content/yolov5/runs/train/exp2/F1_curve.png (deflated 14%)\n",
            "  adding: content/yolov5/runs/train/exp2/weights/ (stored 0%)\n",
            "  adding: content/yolov5/runs/train/exp2/weights/best.pt (deflated 8%)\n",
            "  adding: content/yolov5/runs/train/exp2/weights/last.pt (deflated 8%)\n",
            "  adding: content/yolov5/runs/train/exp2/PR_curve.png (deflated 14%)\n",
            "  adding: content/yolov5/runs/train/exp2/results.png (deflated 10%)\n",
            "  adding: content/yolov5/runs/train/exp2/events.out.tfevents.1678258686.14261c2f4cd3.11882.0 (deflated 35%)\n",
            "  adding: content/yolov5/runs/train/exp2/val_batch0_pred.jpg (deflated 6%)\n",
            "  adding: content/yolov5/runs/train/exp2/val_batch1_pred.jpg (deflated 7%)\n",
            "  adding: content/yolov5/runs/train/exp2/train_batch1.jpg (deflated 1%)\n",
            "  adding: content/yolov5/runs/train/exp2/confusion_matrix.png (deflated 36%)\n",
            "  adding: content/yolov5/runs/train/exp2/hyp.yaml (deflated 45%)\n",
            "  adding: content/yolov5/runs/train/exp2/val_batch2_labels.jpg (deflated 7%)\n",
            "  adding: content/yolov5/runs/train/exp2/labels.jpg (deflated 24%)\n",
            "  adding: content/yolov5/runs/train/exp2/val_batch1_labels.jpg (deflated 7%)\n",
            "  adding: content/yolov5/runs/train/exp2/val_batch0_labels.jpg (deflated 7%)\n",
            "  adding: content/yolov5/runs/train/exp2/opt.yaml (deflated 48%)\n",
            "  adding: content/yolov5/runs/train/exp2/P_curve.png (deflated 12%)\n",
            "  adding: content/yolov5/runs/train/exp2/train_batch0.jpg (deflated 1%)\n",
            "  adding: content/yolov5/detect.py (deflated 69%)\n",
            "  adding: content/yolov5/requirements.txt (deflated 55%)\n",
            "  adding: content/yolov5/__pycache__/ (stored 0%)\n",
            "  adding: content/yolov5/__pycache__/val.cpython-38.pyc (deflated 43%)\n",
            "  adding: content/yolov5/models/ (stored 0%)\n",
            "  adding: content/yolov5/models/experimental.py (deflated 59%)\n",
            "  adding: content/yolov5/models/yolov5l.yaml (deflated 61%)\n",
            "  adding: content/yolov5/models/yolov5s.yaml (deflated 60%)\n",
            "  adding: content/yolov5/models/hub/ (stored 0%)\n",
            "  adding: content/yolov5/models/hub/yolov5-bifpn.yaml (deflated 60%)\n",
            "  adding: content/yolov5/models/hub/yolov5-p7.yaml (deflated 69%)\n",
            "  adding: content/yolov5/models/hub/yolov5x6.yaml (deflated 65%)\n",
            "  adding: content/yolov5/models/hub/yolov3-tiny.yaml (deflated 60%)\n",
            "  adding: content/yolov5/models/hub/yolov3-spp.yaml (deflated 63%)\n",
            "  adding: content/yolov5/models/hub/yolov5-panet.yaml (deflated 60%)\n",
            "  adding: content/yolov5/models/hub/yolov5s6.yaml (deflated 65%)\n",
            "  adding: content/yolov5/models/hub/anchors.yaml (deflated 72%)\n",
            "  adding: content/yolov5/models/hub/yolov5s-ghost.yaml (deflated 62%)\n",
            "  adding: content/yolov5/models/hub/yolov5-fpn.yaml (deflated 57%)\n",
            "  adding: content/yolov5/models/hub/yolov5l6.yaml (deflated 65%)\n",
            "  adding: content/yolov5/models/hub/yolov5n6.yaml (deflated 65%)\n",
            "  adding: content/yolov5/models/hub/yolov5m6.yaml (deflated 65%)\n",
            "  adding: content/yolov5/models/hub/yolov5-p2.yaml (deflated 66%)\n",
            "  adding: content/yolov5/models/hub/yolov5-p6.yaml (deflated 66%)\n",
            "  adding: content/yolov5/models/hub/yolov3.yaml (deflated 63%)\n",
            "  adding: content/yolov5/models/hub/yolov5s-LeakyReLU.yaml (deflated 59%)\n",
            "  adding: content/yolov5/models/hub/yolov5-p34.yaml (deflated 62%)\n",
            "  adding: content/yolov5/models/hub/yolov5s-transformer.yaml (deflated 60%)\n",
            "  adding: content/yolov5/models/yolov5n.yaml (deflated 60%)\n",
            "  adding: content/yolov5/models/__pycache__/ (stored 0%)\n",
            "  adding: content/yolov5/models/__pycache__/__init__.cpython-38.pyc (deflated 28%)\n",
            "  adding: content/yolov5/models/__pycache__/common.cpython-38.pyc (deflated 56%)\n",
            "  adding: content/yolov5/models/__pycache__/experimental.cpython-38.pyc (deflated 45%)\n",
            "  adding: content/yolov5/models/__pycache__/yolo.cpython-38.pyc (deflated 49%)\n",
            "  adding: content/yolov5/models/yolo.py (deflated 67%)\n",
            "  adding: content/yolov5/models/tf.py (deflated 73%)\n",
            "  adding: content/yolov5/models/__init__.py (stored 0%)\n",
            "  adding: content/yolov5/models/yolov5m.yaml (deflated 60%)\n",
            "  adding: content/yolov5/models/segment/ (stored 0%)\n",
            "  adding: content/yolov5/models/segment/yolov5l-seg.yaml (deflated 60%)\n",
            "  adding: content/yolov5/models/segment/yolov5x-seg.yaml (deflated 60%)\n",
            "  adding: content/yolov5/models/segment/yolov5n-seg.yaml (deflated 60%)\n",
            "  adding: content/yolov5/models/segment/yolov5s-seg.yaml (deflated 60%)\n",
            "  adding: content/yolov5/models/segment/yolov5m-seg.yaml (deflated 60%)\n",
            "  adding: content/yolov5/models/yolov5x.yaml (deflated 60%)\n",
            "  adding: content/yolov5/models/common.py (deflated 71%)\n",
            "  adding: content/yolov5/export.py (deflated 72%)\n",
            "  adding: content/yolov5/val.py (deflated 67%)\n",
            "  adding: content/yolov5/.dockerignore (deflated 56%)\n",
            "  adding: content/yolov5/.github/ (stored 0%)\n",
            "  adding: content/yolov5/.github/workflows/ (stored 0%)\n",
            "  adding: content/yolov5/.github/workflows/greetings.yml (deflated 61%)\n",
            "  adding: content/yolov5/.github/workflows/stale.yml (deflated 59%)\n",
            "  adding: content/yolov5/.github/workflows/ci-testing.yml (deflated 75%)\n",
            "  adding: content/yolov5/.github/workflows/codeql-analysis.yml (deflated 52%)\n",
            "  adding: content/yolov5/.github/workflows/translate-readme.yml (deflated 47%)\n",
            "  adding: content/yolov5/.github/workflows/docker.yml (deflated 67%)\n",
            "  adding: content/yolov5/.github/ISSUE_TEMPLATE/ (stored 0%)\n",
            "  adding: content/yolov5/.github/ISSUE_TEMPLATE/feature-request.yml (deflated 61%)\n",
            "  adding: content/yolov5/.github/ISSUE_TEMPLATE/config.yml (deflated 36%)\n",
            "  adding: content/yolov5/.github/ISSUE_TEMPLATE/bug-report.yml (deflated 59%)\n",
            "  adding: content/yolov5/.github/ISSUE_TEMPLATE/question.yml (deflated 57%)\n",
            "  adding: content/yolov5/.github/PULL_REQUEST_TEMPLATE.md (deflated 40%)\n",
            "  adding: content/yolov5/.github/dependabot.yml (deflated 60%)\n",
            "  adding: content/yolov5/README.md (deflated 79%)\n",
            "  adding: content/yolov5/segment/ (stored 0%)\n",
            "  adding: content/yolov5/segment/tutorial.ipynb (deflated 75%)\n",
            "  adding: content/yolov5/segment/val.py (deflated 68%)\n",
            "  adding: content/yolov5/segment/predict.py (deflated 70%)\n",
            "  adding: content/yolov5/segment/train.py (deflated 69%)\n",
            "  adding: content/yolov5/README.zh-CN.md (deflated 77%)\n",
            "  adding: content/yolov5/benchmarks.py (deflated 68%)\n",
            "  adding: content/yolov5/train.py (deflated 69%)\n",
            "  adding: content/yolov5/CONTRIBUTING.md (deflated 56%)\n",
            "  adding: content/yolov5/hubconf.py (deflated 73%)\n",
            "  adding: content/yolov5/utils/ (stored 0%)\n",
            "  adding: content/yolov5/utils/loggers/ (stored 0%)\n",
            "  adding: content/yolov5/utils/loggers/clearml/ (stored 0%)\n",
            "  adding: content/yolov5/utils/loggers/clearml/hpo.py (deflated 71%)\n",
            "  adding: content/yolov5/utils/loggers/clearml/clearml_utils.py (deflated 64%)\n",
            "  adding: content/yolov5/utils/loggers/clearml/__pycache__/ (stored 0%)\n",
            "  adding: content/yolov5/utils/loggers/clearml/__pycache__/__init__.cpython-38.pyc (deflated 24%)\n",
            "  adding: content/yolov5/utils/loggers/clearml/__pycache__/clearml_utils.cpython-38.pyc (deflated 44%)\n",
            "  adding: content/yolov5/utils/loggers/clearml/__init__.py (stored 0%)\n",
            "  adding: content/yolov5/utils/loggers/clearml/README.md (deflated 59%)\n",
            "  adding: content/yolov5/utils/loggers/wandb/ (stored 0%)\n",
            "  adding: content/yolov5/utils/loggers/wandb/wandb_utils.py (deflated 66%)\n",
            "  adding: content/yolov5/utils/loggers/wandb/__pycache__/ (stored 0%)\n",
            "  adding: content/yolov5/utils/loggers/wandb/__pycache__/__init__.cpython-38.pyc (deflated 25%)\n",
            "  adding: content/yolov5/utils/loggers/wandb/__pycache__/wandb_utils.cpython-38.pyc (deflated 48%)\n",
            "  adding: content/yolov5/utils/loggers/wandb/__init__.py (stored 0%)\n",
            "  adding: content/yolov5/utils/loggers/__pycache__/ (stored 0%)\n",
            "  adding: content/yolov5/utils/loggers/__pycache__/__init__.cpython-38.pyc (deflated 51%)\n",
            "  adding: content/yolov5/utils/loggers/comet/ (stored 0%)\n",
            "  adding: content/yolov5/utils/loggers/comet/hpo.py (deflated 68%)\n",
            "  adding: content/yolov5/utils/loggers/comet/optimizer_config.json (deflated 85%)\n",
            "  adding: content/yolov5/utils/loggers/comet/comet_utils.py (deflated 69%)\n",
            "  adding: content/yolov5/utils/loggers/comet/__pycache__/ (stored 0%)\n",
            "  adding: content/yolov5/utils/loggers/comet/__pycache__/__init__.cpython-38.pyc (deflated 51%)\n",
            "  adding: content/yolov5/utils/loggers/comet/__pycache__/comet_utils.cpython-38.pyc (deflated 47%)\n",
            "  adding: content/yolov5/utils/loggers/comet/__init__.py (deflated 74%)\n",
            "  adding: content/yolov5/utils/loggers/comet/README.md (deflated 63%)\n",
            "  adding: content/yolov5/utils/loggers/__init__.py (deflated 73%)\n",
            "  adding: content/yolov5/utils/autoanchor.py (deflated 60%)\n",
            "  adding: content/yolov5/utils/docker/ (stored 0%)\n",
            "  adding: content/yolov5/utils/docker/Dockerfile (deflated 56%)\n",
            "  adding: content/yolov5/utils/docker/Dockerfile-arm64 (deflated 52%)\n",
            "  adding: content/yolov5/utils/docker/Dockerfile-cpu (deflated 51%)\n",
            "  adding: content/yolov5/utils/plots.py (deflated 65%)\n",
            "  adding: content/yolov5/utils/general.py (deflated 66%)\n",
            "  adding: content/yolov5/utils/autobatch.py (deflated 56%)\n",
            "  adding: content/yolov5/utils/triton.py (deflated 67%)\n",
            "  adding: content/yolov5/utils/callbacks.py (deflated 68%)\n",
            "  adding: content/yolov5/utils/google_app_engine/ (stored 0%)\n",
            "  adding: content/yolov5/utils/google_app_engine/Dockerfile (deflated 47%)\n",
            "  adding: content/yolov5/utils/google_app_engine/additional_requirements.txt (deflated 20%)\n",
            "  adding: content/yolov5/utils/google_app_engine/app.yaml (deflated 26%)\n",
            "  adding: content/yolov5/utils/downloads.py (deflated 62%)\n",
            "  adding: content/yolov5/utils/__pycache__/ (stored 0%)\n",
            "  adding: content/yolov5/utils/__pycache__/autoanchor.cpython-38.pyc (deflated 42%)\n",
            "  adding: content/yolov5/utils/__pycache__/dataloaders.cpython-38.pyc (deflated 51%)\n",
            "  adding: content/yolov5/utils/__pycache__/callbacks.cpython-38.pyc (deflated 54%)\n",
            "  adding: content/yolov5/utils/__pycache__/augmentations.cpython-38.pyc (deflated 48%)\n",
            "  adding: content/yolov5/utils/__pycache__/plots.cpython-38.pyc (deflated 45%)\n",
            "  adding: content/yolov5/utils/__pycache__/__init__.cpython-38.pyc (deflated 41%)\n",
            "  adding: content/yolov5/utils/__pycache__/metrics.cpython-38.pyc (deflated 47%)\n",
            "  adding: content/yolov5/utils/__pycache__/downloads.cpython-38.pyc (deflated 42%)\n",
            "  adding: content/yolov5/utils/__pycache__/torch_utils.cpython-38.pyc (deflated 45%)\n",
            "  adding: content/yolov5/utils/__pycache__/general.cpython-38.pyc (deflated 50%)\n",
            "  adding: content/yolov5/utils/__pycache__/loss.cpython-38.pyc (deflated 46%)\n",
            "  adding: content/yolov5/utils/__pycache__/autobatch.cpython-38.pyc (deflated 36%)\n",
            "  adding: content/yolov5/utils/aws/ (stored 0%)\n",
            "  adding: content/yolov5/utils/aws/mime.sh (deflated 46%)\n",
            "  adding: content/yolov5/utils/aws/userdata.sh (deflated 47%)\n",
            "  adding: content/yolov5/utils/aws/resume.py (deflated 46%)\n",
            "  adding: content/yolov5/utils/aws/__init__.py (stored 0%)\n",
            "  adding: content/yolov5/utils/loss.py (deflated 69%)\n",
            "  adding: content/yolov5/utils/__init__.py (deflated 54%)\n",
            "  adding: content/yolov5/utils/activations.py (deflated 68%)\n",
            "  adding: content/yolov5/utils/segment/ (stored 0%)\n",
            "  adding: content/yolov5/utils/segment/plots.py (deflated 64%)\n",
            "  adding: content/yolov5/utils/segment/general.py (deflated 71%)\n",
            "  adding: content/yolov5/utils/segment/__pycache__/ (stored 0%)\n",
            "  adding: content/yolov5/utils/segment/__pycache__/__init__.cpython-38.pyc (deflated 27%)\n",
            "  adding: content/yolov5/utils/segment/__pycache__/general.cpython-38.pyc (deflated 51%)\n",
            "  adding: content/yolov5/utils/segment/loss.py (deflated 66%)\n",
            "  adding: content/yolov5/utils/segment/__init__.py (stored 0%)\n",
            "  adding: content/yolov5/utils/segment/metrics.py (deflated 76%)\n",
            "  adding: content/yolov5/utils/segment/augmentations.py (deflated 62%)\n",
            "  adding: content/yolov5/utils/segment/dataloaders.py (deflated 72%)\n",
            "  adding: content/yolov5/utils/metrics.py (deflated 66%)\n",
            "  adding: content/yolov5/utils/augmentations.py (deflated 66%)\n",
            "  adding: content/yolov5/utils/flask_rest_api/ (stored 0%)\n",
            "  adding: content/yolov5/utils/flask_rest_api/restapi.py (deflated 48%)\n",
            "  adding: content/yolov5/utils/flask_rest_api/example_request.py (deflated 26%)\n",
            "  adding: content/yolov5/utils/flask_rest_api/README.md (deflated 52%)\n",
            "  adding: content/yolov5/utils/torch_utils.py (deflated 64%)\n",
            "  adding: content/yolov5/utils/dataloaders.py (deflated 71%)\n"
          ]
        }
      ],
      "source": [
        "!zip -r /content/drive/MyDrive/pothole/file.zip /content/yolov5"
      ]
    },
    {
      "cell_type": "code",
      "source": [],
      "metadata": {
        "id": "aZrHIoIn4aUc"
      },
      "execution_count": 13,
      "outputs": []
    }
  ],
  "metadata": {
    "colab": {
      "provenance": []
    },
    "kernelspec": {
      "display_name": "Python 3",
      "language": "python",
      "name": "python3"
    },
    "language_info": {
      "codemirror_mode": {
        "name": "ipython",
        "version": 3
      },
      "file_extension": ".py",
      "mimetype": "text/x-python",
      "name": "python",
      "nbconvert_exporter": "python",
      "pygments_lexer": "ipython3",
      "version": "3.7.4"
    }
  },
  "nbformat": 4,
  "nbformat_minor": 0
}